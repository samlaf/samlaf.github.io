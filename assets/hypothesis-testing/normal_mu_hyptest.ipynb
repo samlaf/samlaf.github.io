{
 "cells": [
  {
   "cell_type": "code",
   "execution_count": 1,
   "metadata": {},
   "outputs": [],
   "source": [
    "#nbi:hide_in\n",
    "import matplotlib.pyplot as plt\n",
    "from scipy.stats import norm\n",
    "import numpy as np\n",
    "from ipywidgets import interact"
   ]
  },
  {
   "cell_type": "code",
   "execution_count": 2,
   "metadata": {},
   "outputs": [],
   "source": [
    "#nbi:hide_in\n",
    "MINX = -3\n",
    "MAXX = 10\n",
    "dt = 0.1\n",
    "x = np.arange(MINX,MAXX,dt)\n",
    "N01 = norm.pdf(x,0,1) #H_0"
   ]
  },
  {
   "cell_type": "code",
   "execution_count": 9,
   "metadata": {},
   "outputs": [
    {
     "data": {
      "application/vnd.jupyter.widget-view+json": {
       "model_id": "db5699085c3c45e5b4b64112448a1fcc",
       "version_major": 2,
       "version_minor": 0
      },
      "text/plain": [
       "interactive(children=(FloatSlider(value=4.0, description='mu1', max=6.0, step=0.25), FloatSlider(value=0.05, d…"
      ]
     },
     "metadata": {},
     "output_type": "display_data"
    }
   ],
   "source": [
    "#nbi:hide_in\n",
    "@interact(mu1=(0.,6.,0.25), significance=(0.01,0.5,0.01))\n",
    "def plot_test(mu1=4.0, significance=0.05):\n",
    "    alpha = significance\n",
    "    critical_value = norm.ppf(1-alpha)\n",
    "    rejectreg_right = np.arange(critical_value, MAXX, dt)\n",
    "    Nmu1 = norm.pdf(x,mu1,1) # H_1\n",
    "    power = 1 - norm.cdf(critical_value, mu1)\n",
    "    \n",
    "    plt.plot(x, N01, label=\"$H_0: N(0,1)$\")\n",
    "    plt.plot(x, Nmu1, label=\"$H_1: N(\\mu_1,1)$\")\n",
    "    plt.fill_between(rejectreg_right, norm.pdf(rejectreg_right), color='blue', alpha=0.3, \n",
    "                     label=\"significance = {:0.2f}\".format(alpha))\n",
    "    plt.fill_between(rejectreg_right, norm.pdf(rejectreg_right,mu1,1), \n",
    "                     color='orange', alpha=0.3, label=\"power = {:0.3f}\".format(power))\n",
    "    plt.legend()\n",
    "    plt.yticks([])\n",
    "    plt.xticks([critical_value])"
   ]
  }
 ],
 "metadata": {
  "kernelspec": {
   "display_name": "Python 3",
   "language": "python",
   "name": "python3"
  },
  "language_info": {
   "codemirror_mode": {
    "name": "ipython",
    "version": 3
   },
   "file_extension": ".py",
   "mimetype": "text/x-python",
   "name": "python",
   "nbconvert_exporter": "python",
   "pygments_lexer": "ipython3",
   "version": "3.8.3"
  }
 },
 "nbformat": 4,
 "nbformat_minor": 4
}
